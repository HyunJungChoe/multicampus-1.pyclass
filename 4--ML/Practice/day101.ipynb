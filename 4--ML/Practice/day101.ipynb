{
 "cells": [
  {
   "cell_type": "code",
   "execution_count": 4,
   "metadata": {},
   "outputs": [
    {
     "data": {
      "text/plain": [
       "(10, 10)"
      ]
     },
     "execution_count": 4,
     "metadata": {},
     "output_type": "execute_result"
    }
   ],
   "source": [
    "a = 10\n",
    "b = 10\n",
    "a, b"
   ]
  },
  {
   "cell_type": "markdown",
   "metadata": {},
   "source": [
    "![](figures/array_vs_list.png)"
   ]
  },
  {
   "cell_type": "markdown",
   "metadata": {},
   "source": [
    "# Numpy 실행시간 비교"
   ]
  },
  {
   "cell_type": "code",
   "execution_count": null,
   "metadata": {},
   "outputs": [],
   "source": [
    "import numpy as np"
   ]
  },
  {
   "cell_type": "code",
   "execution_count": 21,
   "metadata": {},
   "outputs": [],
   "source": [
    "import time\n",
    "class Timer(object):\n",
    "    def __init__(self, name=None):\n",
    "        self.name = name\n",
    "    def __enter__(self):\n",
    "        self.tstart = time.time()\n",
    "    def __exit__(self, type, value, traceback):\n",
    "        if self.name:\n",
    "            print(f'{self.name}')\n",
    "        print(f\"Elapsed : {time.time() - self.tstart}\")"
   ]
  },
  {
   "cell_type": "code",
   "execution_count": 16,
   "metadata": {},
   "outputs": [
    {
     "name": "stdout",
     "output_type": "stream",
     "text": [
      "여기에 이름을 입력하세요.\n",
      "Elapsed : 1.000866413116455\n"
     ]
    }
   ],
   "source": [
    "with Timer(\"여기에 이름을 입력하세요.\"):\n",
    "    time.sleep(1)"
   ]
  },
  {
   "cell_type": "code",
   "execution_count": 19,
   "metadata": {},
   "outputs": [],
   "source": [
    "rows = 1000\n",
    "cols = 1000\n",
    "sampleRandom2DArray = np.random.rand(rows, cols)\n",
    "sampleRandom2DList = sampleRandom2DArray.tolist()"
   ]
  },
  {
   "cell_type": "code",
   "execution_count": 20,
   "metadata": {},
   "outputs": [
    {
     "name": "stdout",
     "output_type": "stream",
     "text": [
      "파이선 기본형 - 모든 원소의 합구하기\n",
      "Elapsed : 0.11465692520141602\n",
      "Numpy 사용 - 모든 원소의 합구하기\n",
      "Elapsed : 0.002003908157348633\n",
      "파이선 기본형 - 모든 원소의 각 1더하기\n",
      "Elapsed : 0.18050885200500488\n",
      "Numpy 사용 - 모든 원소의 각 1 더하기\n",
      "Elapsed : 0.025940656661987305\n"
     ]
    }
   ],
   "source": [
    "with Timer('파이선 기본형 - 모든 원소의 합구하기'):\n",
    "    sum = 0\n",
    "    for list in sampleRandom2DList:\n",
    "        for e in list:\n",
    "            sum += e\n",
    "with Timer('Numpy 사용 - 모든 원소의 합구하기'):\n",
    "    sum = np.sum(sampleRandom2DArray)\n",
    "\n",
    "with Timer('파이선 기본형 - 모든 원소의 각 1더하기'):\n",
    "    sampleRandom2DList2= []\n",
    "    for list in sampleRandom2DList:\n",
    "        templist=[]\n",
    "        for e in list:\n",
    "            templist.append(e+1)\n",
    "        sampleRandom2DList2.append(templist)\n",
    "with Timer('Numpy 사용 - 모든 원소의 각 1 더하기'):\n",
    "    sampleRandom2DList2 = sampleRandom2DArray+1"
   ]
  },
  {
   "cell_type": "code",
   "execution_count": null,
   "metadata": {},
   "outputs": [],
   "source": []
  }
 ],
 "metadata": {
  "kernelspec": {
   "display_name": "Python 3",
   "language": "python",
   "name": "python3"
  },
  "language_info": {
   "codemirror_mode": {
    "name": "ipython",
    "version": 3
   },
   "file_extension": ".py",
   "mimetype": "text/x-python",
   "name": "python",
   "nbconvert_exporter": "python",
   "pygments_lexer": "ipython3",
   "version": "3.8.3"
  }
 },
 "nbformat": 4,
 "nbformat_minor": 4
}
